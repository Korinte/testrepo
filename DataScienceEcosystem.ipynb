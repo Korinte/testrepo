{
 "cells": [
  {
   "cell_type": "markdown",
   "id": "d214e6aa-11d3-4590-a518-eed4156a5e5b",
   "metadata": {
    "editable": true,
    "slideshow": {
     "slide_type": ""
    },
    "tags": []
   },
   "source": [
    "# Data Science Tools and Ecosystem"
   ]
  },
  {
   "cell_type": "markdown",
   "id": "e849295b-ac6f-4308-a8fd-fe95f9bd6cfa",
   "metadata": {},
   "source": [
    "In this notebook, Data Science Tools and Ecosystem are summarized."
   ]
  },
  {
   "cell_type": "markdown",
   "id": "d5b19be0-ed4f-4ddf-b6f3-ae28bc744921",
   "metadata": {},
   "source": [
    "**Objectives:**\n",
    "* List popular languages for Data Science.\n",
    "* List commonly used libraries for Data Science in Python.\n",
    "* List development enviroment open source tools."
   ]
  },
  {
   "cell_type": "markdown",
   "id": "53485c4a-7ae8-4f2d-805f-fc50a6873737",
   "metadata": {},
   "source": [
    "Some of the popular languages that Data Scientists use are:\n",
    "1. Python\n",
    "2. R\n",
    "3. Julia"
   ]
  },
  {
   "cell_type": "markdown",
   "id": "ca8657c5-6498-4d6b-96eb-1af82937a152",
   "metadata": {},
   "source": [
    "Some of the commonly used libraries used by Data Scientists include:\n",
    "1. Pandas\n",
    "2. Matplotlib\n",
    "3. Scikit-learn\n",
    "4. TensorFlow"
   ]
  },
  {
   "cell_type": "markdown",
   "id": "d72a3d58-a760-428e-9df7-ea223a1d1e2a",
   "metadata": {},
   "source": [
    "|Data Science Tools|\n",
    "|:------------------:|\n",
    "|Jupyter|\n",
    "|RStudio|\n",
    "|Spyder|\n"
   ]
  },
  {
   "cell_type": "markdown",
   "id": "af74f95a-ed1c-4b0b-a0be-5dd28494f915",
   "metadata": {},
   "source": [
    "### Below are a few examples of evaluating arithmetic expressions in Python"
   ]
  },
  {
   "cell_type": "code",
   "execution_count": 37,
   "id": "dd8ef534-5e71-40f2-9b7d-66a68a896a6a",
   "metadata": {},
   "outputs": [
    {
     "data": {
      "text/plain": [
       "17"
      ]
     },
     "execution_count": 37,
     "metadata": {},
     "output_type": "execute_result"
    }
   ],
   "source": [
    "# This a simple arithmetic expression to mutiply then add integers\n",
    "(3 * 4) + 5"
   ]
  },
  {
   "cell_type": "code",
   "execution_count": 39,
   "id": "d43e630e-3883-47c3-a9c7-0b60309d617b",
   "metadata": {},
   "outputs": [
    {
     "data": {
      "text/plain": [
       "3.33"
      ]
     },
     "execution_count": 39,
     "metadata": {},
     "output_type": "execute_result"
    }
   ],
   "source": [
    "# This will convert 200 minutes to hours by diving by 60\n",
    "round(200 / 60, 2)"
   ]
  },
  {
   "cell_type": "markdown",
   "id": "1c196e86-8dd8-4cd6-bfcd-7c9a1e88f9ff",
   "metadata": {},
   "source": [
    "## Author:\n",
    "Kristīne Teivena"
   ]
  },
 ],
 "metadata": {
  "kernelspec": {
   "display_name": "Python [conda env:base] *",
   "language": "python",
   "name": "conda-base-py"
  },
  "language_info": {
   "codemirror_mode": {
    "name": "ipython",
    "version": 3
   },
   "file_extension": ".py",
   "mimetype": "text/x-python",
   "name": "python",
   "nbconvert_exporter": "python",
   "pygments_lexer": "ipython3",
   "version": "3.12.7"
  }
 },
 "nbformat": 4,
 "nbformat_minor": 5
}
